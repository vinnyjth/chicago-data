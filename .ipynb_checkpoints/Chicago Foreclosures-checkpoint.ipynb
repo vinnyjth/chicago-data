{
 "cells": [
  {
   "cell_type": "code",
   "execution_count": 89,
   "metadata": {},
   "outputs": [],
   "source": [
    "from ipywidgets import interact, interactive, fixed, interact_manual"
   ]
  },
  {
   "cell_type": "code",
   "execution_count": 40,
   "metadata": {},
   "outputs": [],
   "source": [
    "import geopandas as gpd\n",
    "\n",
    "gdf = gpd.read_file('./WARDS_2015/WARDS_2015.shp')"
   ]
  },
  {
   "cell_type": "code",
   "execution_count": 69,
   "metadata": {},
   "outputs": [],
   "source": [
    "import pandas as pds\n",
    "forclosures = pds.read_csv(\"./IHS_Foreclosure_Filings_chicago-wards.csv\", thousands=',')\n",
    "with_forclosures = gdf.merge(forclosures, on='WARD')"
   ]
  },
  {
   "cell_type": "code",
   "execution_count": 70,
   "metadata": {},
   "outputs": [],
   "source": [
    "with_forclosures['coords'] = with_forclosures['geometry'].apply(lambda x: x.representative_point().coords[:])\n",
    "with_forclosures['coords'] = [coords[0] for coords in with_forclosures['coords']]"
   ]
  },
  {
   "cell_type": "code",
   "execution_count": 86,
   "metadata": {},
   "outputs": [
    {
     "data": {
      "application/vnd.jupyter.widget-view+json": {
       "model_id": "270b801d59ab4170a5bcd41e77fce24a",
       "version_major": 2,
       "version_minor": 0
      },
      "text/plain": [
       "Dropdown(description='Data Set:', index=16, options=('WARD', 'All_Res_2005', 'Single_2005', 'Condo_2005', '2-4…"
      ]
     },
     "metadata": {},
     "output_type": "display_data"
    }
   ],
   "source": [
    "import ipywidgets as widgets\n",
    "column_to_see = widgets.Dropdown(\n",
    "    options=forclosures.columns,\n",
    "    description='Data Set:',\n",
    "    disabled=False,\n",
    "    value=\"All_Res_2008\"\n",
    ")\n",
    "column_to_see"
   ]
  },
  {
   "cell_type": "code",
   "execution_count": 92,
   "metadata": {},
   "outputs": [
    {
     "data": {
      "application/vnd.jupyter.widget-view+json": {
       "model_id": "49bb6030c335452292dd77c14e0f13a3",
       "version_major": 2,
       "version_minor": 0
      },
      "text/plain": [
       "interactive(children=(Dropdown(description='column', index=16, options=('WARD', 'All_Res_2005', 'Single_2005',…"
      ]
     },
     "metadata": {},
     "output_type": "display_data"
    }
   ],
   "source": [
    "@interact(column=forclosures.columns)\n",
    "def plot_f(column=\"All_Res_2008\"):\n",
    "    plot = with_forclosures.plot(figsize=(20,20), column=column_to_see.value, cmap=\"YlOrRd\", legend=True)\n",
    "    for idx, row in with_forclosures.iterrows():\n",
    "        plot.annotate(s=row['WARD'],\n",
    "                        xy=row['coords'],\n",
    "                         horizontalalignment='center')"
   ]
  },
  {
   "cell_type": "code",
   "execution_count": null,
   "metadata": {},
   "outputs": [],
   "source": []
  },
  {
   "cell_type": "code",
   "execution_count": null,
   "metadata": {},
   "outputs": [],
   "source": []
  }
 ],
 "metadata": {
  "kernelspec": {
   "display_name": "Python 3",
   "language": "python",
   "name": "python3"
  },
  "language_info": {
   "codemirror_mode": {
    "name": "ipython",
    "version": 3
   },
   "file_extension": ".py",
   "mimetype": "text/x-python",
   "name": "python",
   "nbconvert_exporter": "python",
   "pygments_lexer": "ipython3",
   "version": "3.6.5"
  }
 },
 "nbformat": 4,
 "nbformat_minor": 2
}
