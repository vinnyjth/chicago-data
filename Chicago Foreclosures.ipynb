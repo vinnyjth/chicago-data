{
 "cells": [
  {
   "cell_type": "code",
   "execution_count": 2,
   "metadata": {},
   "outputs": [],
   "source": [
    "from ipywidgets import interact\n",
    "import geopandas as gpd\n",
    "import pandas as pds"
   ]
  },
  {
   "cell_type": "code",
   "execution_count": 3,
   "metadata": {},
   "outputs": [],
   "source": [
    "gdf = gpd.read_file('./WARDS_2015/WARDS_2015.shp')\n",
    "forclosures = pds.read_csv(\"./IHS_Foreclosure_Filings_chicago-wards.csv\", thousands=',')\n",
    "with_forclosures = gdf.merge(forclosures, on='WARD')"
   ]
  },
  {
   "cell_type": "code",
   "execution_count": 4,
   "metadata": {},
   "outputs": [],
   "source": [
    "with_forclosures['coords'] = with_forclosures['geometry'].apply(lambda x: x.representative_point().coords[:])\n",
    "with_forclosures['coords'] = [coords[0] for coords in with_forclosures['coords']]"
   ]
  },
  {
   "cell_type": "code",
   "execution_count": 8,
   "metadata": {},
   "outputs": [
    {
     "data": {
      "application/vnd.jupyter.widget-view+json": {
       "model_id": "74c09fdeca964851a11a25301ea6bc5c",
       "version_major": 2,
       "version_minor": 0
      },
      "text/plain": [
       "interactive(children=(Dropdown(description='column', index=3, options=('All_Res_2005', 'All_Res_2006', 'All_Re…"
      ]
     },
     "metadata": {},
     "output_type": "display_data"
    }
   ],
   "source": [
    "@interact(column=filter(lambda col: \"All\" in col,forclosures.columns))\n",
    "def plot_f(column=\"All_Res_2008\"):\n",
    "    plot = with_forclosures.plot(figsize=(15,15), column=column, cmap=\"YlOrRd\", legend=True)\n",
    "    for idx, row in with_forclosures.iterrows():\n",
    "        plot.annotate(s=row['WARD'],\n",
    "                        xy=row['coords'],\n",
    "                         horizontalalignment='center')"
   ]
  },
  {
   "cell_type": "code",
   "execution_count": null,
   "metadata": {},
   "outputs": [],
   "source": []
  },
  {
   "cell_type": "code",
   "execution_count": null,
   "metadata": {},
   "outputs": [],
   "source": []
  }
 ],
 "metadata": {
  "kernelspec": {
   "display_name": "Python 3",
   "language": "python",
   "name": "python3"
  },
  "language_info": {
   "codemirror_mode": {
    "name": "ipython",
    "version": 3
   },
   "file_extension": ".py",
   "mimetype": "text/x-python",
   "name": "python",
   "nbconvert_exporter": "python",
   "pygments_lexer": "ipython3",
   "version": "3.6.5"
  }
 },
 "nbformat": 4,
 "nbformat_minor": 2
}
